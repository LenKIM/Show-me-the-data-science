{
 "cells": [
  {
   "cell_type": "markdown",
   "metadata": {},
   "source": [
    "문제 해결하기.\n",
    "\n",
    "인공지능의 가장 공통사는 네트워크가 단지 문제를 암기하는 것이 아니라 **일반화** 할 수 있기를 바란다는 것.\n",
    "\n",
    "그러므로 네트워크가 이떻게 일반화하는지 생각하기.\n",
    "\n",
    "#### 1. 내가 가진 네트워크가 문제에 빠졌는지 어떻게 알 것인가?\n",
    "\n"
   ]
  }
 ],
 "metadata": {
  "kernelspec": {
   "display_name": "Python 3",
   "language": "python",
   "name": "python3"
  },
  "language_info": {
   "codemirror_mode": {
    "name": "ipython",
    "version": 3
   },
   "file_extension": ".py",
   "mimetype": "text/x-python",
   "name": "python",
   "nbconvert_exporter": "python",
   "pygments_lexer": "ipython3",
   "version": "3.6.0"
  }
 },
 "nbformat": 4,
 "nbformat_minor": 2
}
