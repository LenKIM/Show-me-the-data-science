{
 "worksheets": [
  {
   "cells": [
    {
     "cell_type": "code",
     "execution_count": null,
     "metadata": {},
     "outputs": [],
     "input": [
      "#Now we'll learn about dropping entries\n",
      "import numpy as np\n",
      "from pandas import Series,DataFrame\n",
      "import pandas as pd"
     ],
     "language": "python",
     "prompt_number": 1
    },
    {
     "cell_type": "code",
     "execution_count": null,
     "metadata": {},
     "outputs": [
      {
       "prompt_number": 5,
       "metadata": {},
       "output_type": "pyout",
       "text": [
        "a    0\n",
        "b    1\n",
        "c    2\n",
        "dtype: int32"
       ]
      }
     ],
     "input": [
      "#Create a new series to play with\n",
      "ser1 = Series(np.arange(3),index=['a','b','c'])\n",
      "\n",
      "#Show\n",
      "ser1"
     ],
     "language": "python",
     "prompt_number": 5
    },
    {
     "cell_type": "code",
     "execution_count": null,
     "metadata": {},
     "outputs": [
      {
       "prompt_number": 6,
       "metadata": {},
       "output_type": "pyout",
       "text": [
        "a    0\n",
        "c    2\n",
        "dtype: int32"
       ]
      }
     ],
     "input": [
      "#Now let's drop an index\n",
      "ser1.drop('b')"
     ],
     "language": "python",
     "prompt_number": 6
    },
    {
     "cell_type": "code",
     "execution_count": null,
     "metadata": {},
     "outputs": [
      {
       "html": [
        "<div style=\"max-height:1000px;max-width:1500px;overflow:auto;\">\n",
        "<table border=\"1\" class=\"dataframe\">\n",
        "  <thead>\n",
        "    <tr style=\"text-align: right;\">\n",
        "      <th></th>\n",
        "      <th>pop</th>\n",
        "      <th>size</th>\n",
        "      <th>year</th>\n",
        "    </tr>\n",
        "  </thead>\n",
        "  <tbody>\n",
        "    <tr>\n",
        "      <th>SF</th>\n",
        "      <td> 0</td>\n",
        "      <td> 1</td>\n",
        "      <td> 2</td>\n",
        "    </tr>\n",
        "    <tr>\n",
        "      <th>LA</th>\n",
        "      <td> 3</td>\n",
        "      <td> 4</td>\n",
        "      <td> 5</td>\n",
        "    </tr>\n",
        "    <tr>\n",
        "      <th>NY</th>\n",
        "      <td> 6</td>\n",
        "      <td> 7</td>\n",
        "      <td> 8</td>\n",
        "    </tr>\n",
        "  </tbody>\n",
        "</table>\n",
        "</div>"
       ],
       "metadata": {},
       "output_type": "pyout"
      }
     ],
     "input": [
      "#With a DataFrame we can drop values from either axis\n",
      "dframe1 = DataFrame(np.arange(9).reshape((3,3)),index=['SF','LA','NY'],columns=['pop','size','year'])\n",
      "\n",
      "#Show (remember just random values)\n",
      "dframe1"
     ],
     "language": "python",
     "prompt_number": 9
    },
    {
     "cell_type": "code",
     "execution_count": null,
     "metadata": {},
     "outputs": [
      {
       "html": [
        "<div style=\"max-height:1000px;max-width:1500px;overflow:auto;\">\n",
        "<table border=\"1\" class=\"dataframe\">\n",
        "  <thead>\n",
        "    <tr style=\"text-align: right;\">\n",
        "      <th></th>\n",
        "      <th>pop</th>\n",
        "      <th>size</th>\n",
        "      <th>year</th>\n",
        "    </tr>\n",
        "  </thead>\n",
        "  <tbody>\n",
        "    <tr>\n",
        "      <th>SF</th>\n",
        "      <td> 0</td>\n",
        "      <td> 1</td>\n",
        "      <td> 2</td>\n",
        "    </tr>\n",
        "    <tr>\n",
        "      <th>NY</th>\n",
        "      <td> 6</td>\n",
        "      <td> 7</td>\n",
        "      <td> 8</td>\n",
        "    </tr>\n",
        "  </tbody>\n",
        "</table>\n",
        "</div>"
       ],
       "metadata": {},
       "output_type": "pyout"
      }
     ],
     "input": [
      "#Now dropping a row\n",
      "dframe1.drop('LA')"
     ],
     "language": "python",
     "prompt_number": 10
    },
    {
     "cell_type": "code",
     "execution_count": null,
     "metadata": {},
     "outputs": [
      {
       "html": [
        "<div style=\"max-height:1000px;max-width:1500px;overflow:auto;\">\n",
        "<table border=\"1\" class=\"dataframe\">\n",
        "  <thead>\n",
        "    <tr style=\"text-align: right;\">\n",
        "      <th></th>\n",
        "      <th>pop</th>\n",
        "      <th>size</th>\n",
        "    </tr>\n",
        "  </thead>\n",
        "  <tbody>\n",
        "    <tr>\n",
        "      <th>SF</th>\n",
        "      <td> 0</td>\n",
        "      <td> 1</td>\n",
        "    </tr>\n",
        "    <tr>\n",
        "      <th>LA</th>\n",
        "      <td> 3</td>\n",
        "      <td> 4</td>\n",
        "    </tr>\n",
        "    <tr>\n",
        "      <th>NY</th>\n",
        "      <td> 6</td>\n",
        "      <td> 7</td>\n",
        "    </tr>\n",
        "  </tbody>\n",
        "</table>\n",
        "</div>"
       ],
       "metadata": {},
       "output_type": "pyout"
      }
     ],
     "input": [
      "#Or we could drop a column\n",
      "\n",
      "#Need to specify that axis is 1, not 0\n",
      "dframe1.drop('year',axis=1)"
     ],
     "language": "python",
     "prompt_number": 13
    },
    {
     "cell_type": "code",
     "execution_count": null,
     "metadata": {},
     "outputs": [],
     "input": [
      "#Next we'll learn about selecting entires in a DataFrame!"
     ],
     "language": "python"
    }
   ]
  }
 ],
 "cells": [],
 "metadata": {
  "name": "",
  "signature": "sha256:1142a42caa61e163fffc05959c60098c39550507cb10c842f35741a1826c5afd"
 },
 "nbformat": 4,
 "nbformat_minor": 0
}
