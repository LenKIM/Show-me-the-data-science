{
 "worksheets": [
  {
   "cells": [
    {
     "cell_type": "code",
     "execution_count": null,
     "metadata": {},
     "outputs": [],
     "input": [
      "import numpy as np\n"
     ],
     "language": "python",
     "prompt_number": 11
    },
    {
     "cell_type": "code",
     "execution_count": null,
     "metadata": {},
     "outputs": [],
     "input": [
      "#Creating sample array\n",
      "arr = np.arange(0,11)"
     ],
     "language": "python",
     "prompt_number": 12
    },
    {
     "cell_type": "code",
     "execution_count": null,
     "metadata": {},
     "outputs": [
      {
       "prompt_number": 6,
       "metadata": {},
       "output_type": "pyout",
       "text": [
        "array([ 0,  1,  2,  3,  4,  5,  6,  7,  8,  9, 10])"
       ]
      }
     ],
     "input": [
      "#Show\n",
      "arr"
     ],
     "language": "python",
     "prompt_number": 6
    },
    {
     "cell_type": "code",
     "execution_count": null,
     "metadata": {},
     "outputs": [
      {
       "prompt_number": 7,
       "metadata": {},
       "output_type": "pyout",
       "text": [
        "8"
       ]
      }
     ],
     "input": [
      "#Get a value at an index\n",
      "arr[8]"
     ],
     "language": "python",
     "prompt_number": 7
    },
    {
     "cell_type": "code",
     "execution_count": null,
     "metadata": {},
     "outputs": [
      {
       "prompt_number": 9,
       "metadata": {},
       "output_type": "pyout",
       "text": [
        "array([1, 2, 3, 4])"
       ]
      }
     ],
     "input": [
      "#Get values in a range\n",
      "arr[1:5]"
     ],
     "language": "python",
     "prompt_number": 9
    },
    {
     "cell_type": "code",
     "execution_count": null,
     "metadata": {},
     "outputs": [
      {
       "prompt_number": 10,
       "metadata": {},
       "output_type": "pyout",
       "text": [
        "array([0, 1, 2, 3, 4])"
       ]
      }
     ],
     "input": [
      "#Get values in a range\n",
      "arr[0:5]"
     ],
     "language": "python",
     "prompt_number": 10
    },
    {
     "cell_type": "code",
     "execution_count": null,
     "metadata": {},
     "outputs": [
      {
       "prompt_number": 16,
       "metadata": {},
       "output_type": "pyout",
       "text": [
        "array([100, 100, 100, 100, 100,   5,   6,   7,   8,   9,  10])"
       ]
      }
     ],
     "input": [
      "#Setting a value with index range (Broadcasting)\n",
      "arr[0:5]=100\n",
      "\n",
      "#Show\n",
      "arr"
     ],
     "language": "python",
     "prompt_number": 16
    },
    {
     "cell_type": "code",
     "execution_count": null,
     "metadata": {},
     "outputs": [
      {
       "prompt_number": 31,
       "metadata": {},
       "output_type": "pyout",
       "text": [
        "array([ 0,  1,  2,  3,  4,  5,  6,  7,  8,  9, 10])"
       ]
      }
     ],
     "input": [
      "# Reset array, we'll see why i had to reset in  a moment\n",
      "arr = np.arange(0,11)\n",
      "\n",
      "#Show\n",
      "arr"
     ],
     "language": "python",
     "prompt_number": 31
    },
    {
     "cell_type": "code",
     "execution_count": null,
     "metadata": {},
     "outputs": [
      {
       "prompt_number": 32,
       "metadata": {},
       "output_type": "pyout",
       "text": [
        "array([0, 1, 2, 3, 4, 5])"
       ]
      }
     ],
     "input": [
      "#Important notes on Slices\n",
      "slice_of_arr = arr[0:6]\n",
      "\n",
      "#Show slice\n",
      "slice_of_arr\n",
      "\n",
      "\n"
     ],
     "language": "python",
     "prompt_number": 32
    },
    {
     "cell_type": "code",
     "execution_count": null,
     "metadata": {},
     "outputs": [
      {
       "prompt_number": 33,
       "metadata": {},
       "output_type": "pyout",
       "text": [
        "array([99, 99, 99, 99, 99, 99])"
       ]
      }
     ],
     "input": [
      "#Change Slice\n",
      "slice_of_arr[:]=99\n",
      "\n",
      "#Show Slice again\n",
      "slice_of_arr\n"
     ],
     "language": "python",
     "prompt_number": 33
    },
    {
     "cell_type": "code",
     "execution_count": null,
     "metadata": {},
     "outputs": [
      {
       "prompt_number": 34,
       "metadata": {},
       "output_type": "pyout",
       "text": [
        "array([99, 99, 99, 99, 99, 99,  6,  7,  8,  9, 10])"
       ]
      }
     ],
     "input": [
      "# Now note the changes also occur in our original array!\n",
      "arr\n",
      "\n",
      "# Data is not copied, it's a view of the original array! This avoids memory problems!\n",
      "\n"
     ],
     "language": "python",
     "prompt_number": 34
    },
    {
     "cell_type": "code",
     "execution_count": null,
     "metadata": {},
     "outputs": [
      {
       "prompt_number": 43,
       "metadata": {},
       "output_type": "pyout",
       "text": [
        "array([99, 99, 99, 99, 99, 99,  6,  7,  8,  9, 10])"
       ]
      }
     ],
     "input": [
      "#To get a copy, need to be explicit\n",
      "arr_copy = arr.copy()\n",
      "\n",
      "arr_copy"
     ],
     "language": "python",
     "prompt_number": 43
    },
    {
     "cell_type": "code",
     "execution_count": null,
     "metadata": {},
     "outputs": [
      {
       "prompt_number": 38,
       "metadata": {},
       "output_type": "pyout",
       "text": [
        "array([[ 5, 10, 15],\n",
        "       [20, 25, 30],\n",
        "       [35, 40, 45]])"
       ]
      }
     ],
     "input": [
      "# Indexing a 2D array\n",
      "\n",
      "arr_2d = np.array(([5,10,15],[20,25,30],[35,40,45]))\n",
      "\n",
      "#Show\n",
      "arr_2d\n",
      "\n"
     ],
     "language": "python",
     "prompt_number": 38
    },
    {
     "cell_type": "code",
     "execution_count": null,
     "metadata": {},
     "outputs": [
      {
       "prompt_number": 39,
       "metadata": {},
       "output_type": "pyout",
       "text": [
        "array([20, 25, 30])"
       ]
      }
     ],
     "input": [
      "#Indexing row\n",
      "arr_2d[1]\n"
     ],
     "language": "python",
     "prompt_number": 39
    },
    {
     "cell_type": "code",
     "execution_count": null,
     "metadata": {},
     "outputs": [
      {
       "prompt_number": 40,
       "metadata": {},
       "output_type": "pyout",
       "text": [
        "20"
       ]
      }
     ],
     "input": [
      "# Format is arr_2d[row][col] or arr_2d[row,col]\n",
      "\n",
      "# Getting individual element value\n",
      "arr_2d[1][0]\n",
      "\n",
      "\n"
     ],
     "language": "python",
     "prompt_number": 40
    },
    {
     "cell_type": "code",
     "execution_count": null,
     "metadata": {},
     "outputs": [
      {
       "prompt_number": 41,
       "metadata": {},
       "output_type": "pyout",
       "text": [
        "20"
       ]
      }
     ],
     "input": [
      "# Getting individual element value\n",
      "arr_2d[1,0]"
     ],
     "language": "python",
     "prompt_number": 41
    },
    {
     "cell_type": "code",
     "execution_count": null,
     "metadata": {},
     "outputs": [
      {
       "prompt_number": 45,
       "metadata": {},
       "output_type": "pyout",
       "text": [
        "array([[10, 15],\n",
        "       [25, 30]])"
       ]
      }
     ],
     "input": [
      "# 2D array slicing\n",
      "\n",
      "#Shape (2,2) from top right corner\n",
      "arr_2d[:2,1:]\n",
      "\n"
     ],
     "language": "python",
     "prompt_number": 45
    },
    {
     "cell_type": "code",
     "execution_count": null,
     "metadata": {},
     "outputs": [
      {
       "prompt_number": 46,
       "metadata": {},
       "output_type": "pyout",
       "text": [
        "array([35, 40, 45])"
       ]
      }
     ],
     "input": [
      "#Shape bottom row\n",
      "arr_2d[2]\n"
     ],
     "language": "python",
     "prompt_number": 46
    },
    {
     "cell_type": "code",
     "execution_count": null,
     "metadata": {},
     "outputs": [
      {
       "prompt_number": 47,
       "metadata": {},
       "output_type": "pyout",
       "text": [
        "array([35, 40, 45])"
       ]
      }
     ],
     "input": [
      "#Shape bottom row\n",
      "arr_2d[2,:]"
     ],
     "language": "python",
     "prompt_number": 47
    },
    {
     "cell_type": "code",
     "execution_count": null,
     "metadata": {},
     "outputs": [],
     "input": [
      "# Fancy Indexing\n",
      "\n",
      "#Set up matrix\n",
      "arr2d = np.zeros((10,10))\n"
     ],
     "language": "python",
     "prompt_number": 66
    },
    {
     "cell_type": "code",
     "execution_count": null,
     "metadata": {},
     "outputs": [],
     "input": [
      "#Length of array\n",
      "arr_length = arr2d.shape[1]"
     ],
     "language": "python",
     "prompt_number": 68
    },
    {
     "cell_type": "code",
     "execution_count": null,
     "metadata": {},
     "outputs": [
      {
       "prompt_number": 70,
       "metadata": {},
       "output_type": "pyout",
       "text": [
        "array([[ 0.,  0.,  0.,  0.,  0.,  0.,  0.,  0.,  0.,  0.],\n",
        "       [ 1.,  1.,  1.,  1.,  1.,  1.,  1.,  1.,  1.,  1.],\n",
        "       [ 2.,  2.,  2.,  2.,  2.,  2.,  2.,  2.,  2.,  2.],\n",
        "       [ 3.,  3.,  3.,  3.,  3.,  3.,  3.,  3.,  3.,  3.],\n",
        "       [ 4.,  4.,  4.,  4.,  4.,  4.,  4.,  4.,  4.,  4.],\n",
        "       [ 5.,  5.,  5.,  5.,  5.,  5.,  5.,  5.,  5.,  5.],\n",
        "       [ 6.,  6.,  6.,  6.,  6.,  6.,  6.,  6.,  6.,  6.],\n",
        "       [ 7.,  7.,  7.,  7.,  7.,  7.,  7.,  7.,  7.,  7.],\n",
        "       [ 8.,  8.,  8.,  8.,  8.,  8.,  8.,  8.,  8.,  8.],\n",
        "       [ 9.,  9.,  9.,  9.,  9.,  9.,  9.,  9.,  9.,  9.]])"
       ]
      }
     ],
     "input": [
      "#Set up array\n",
      "\n",
      "for i in range(arr_length):\n",
      "    arr2d[i] = i\n",
      "    \n",
      "arr2d"
     ],
     "language": "python",
     "prompt_number": 70
    },
    {
     "cell_type": "code",
     "execution_count": null,
     "metadata": {},
     "outputs": [
      {
       "prompt_number": 71,
       "metadata": {},
       "output_type": "pyout",
       "text": [
        "array([[ 2.,  2.,  2.,  2.,  2.,  2.,  2.,  2.,  2.,  2.],\n",
        "       [ 4.,  4.,  4.,  4.,  4.,  4.,  4.,  4.,  4.,  4.],\n",
        "       [ 6.,  6.,  6.,  6.,  6.,  6.,  6.,  6.,  6.,  6.],\n",
        "       [ 8.,  8.,  8.,  8.,  8.,  8.,  8.,  8.,  8.,  8.]])"
       ]
      }
     ],
     "input": [
      "#Fancy indexing allows the following\n",
      "arr2d[[2,4,6,8]]"
     ],
     "language": "python",
     "prompt_number": 71
    },
    {
     "cell_type": "code",
     "execution_count": null,
     "metadata": {},
     "outputs": [
      {
       "prompt_number": 72,
       "metadata": {},
       "output_type": "pyout",
       "text": [
        "array([[ 6.,  6.,  6.,  6.,  6.,  6.,  6.,  6.,  6.,  6.],\n",
        "       [ 4.,  4.,  4.,  4.,  4.,  4.,  4.,  4.,  4.,  4.],\n",
        "       [ 2.,  2.,  2.,  2.,  2.,  2.,  2.,  2.,  2.,  2.],\n",
        "       [ 7.,  7.,  7.,  7.,  7.,  7.,  7.,  7.,  7.,  7.]])"
       ]
      }
     ],
     "input": [
      "#Allows in any order\n",
      "arr2d[[6,4,2,7]]"
     ],
     "language": "python",
     "prompt_number": 72
    },
    {
     "cell_type": "code",
     "execution_count": null,
     "metadata": {},
     "outputs": [],
     "input": [],
     "language": "python"
    }
   ]
  }
 ],
 "cells": [],
 "metadata": {
  "name": "",
  "signature": "sha256:da289f9874cfe0a322d3b4211ca9067b0a664a5ade9aec6265bbcd9eeecd4386"
 },
 "nbformat": 4,
 "nbformat_minor": 0
}
