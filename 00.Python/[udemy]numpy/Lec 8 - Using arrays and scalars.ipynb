{
 "worksheets": [
  {
   "cells": [
    {
     "cell_type": "code",
     "execution_count": null,
     "metadata": {},
     "outputs": [],
     "input": [
      "import numpy as np\n",
      "\n"
     ],
     "language": "python",
     "prompt_number": 14
    },
    {
     "cell_type": "code",
     "execution_count": null,
     "metadata": {},
     "outputs": [
      {
       "prompt_number": 15,
       "metadata": {},
       "output_type": "pyout",
       "text": [
        "2.5"
       ]
      }
     ],
     "input": [
      "5/2"
     ],
     "language": "python",
     "prompt_number": 15
    },
    {
     "cell_type": "code",
     "execution_count": null,
     "metadata": {},
     "outputs": [],
     "input": [
      "#Takes care of floats\n",
      "from __future__ import division"
     ],
     "language": "python",
     "prompt_number": 16
    },
    {
     "cell_type": "code",
     "execution_count": null,
     "metadata": {},
     "outputs": [
      {
       "prompt_number": 4,
       "metadata": {},
       "output_type": "pyout",
       "text": [
        "array([[ 1,  2,  3],\n",
        "       [ 8,  9, 10]])"
       ]
      }
     ],
     "input": [
      "# Create array\n",
      "arr1 = np.array([[1,2,3],[8,9,10]])\n",
      "\n",
      "#Show\n",
      "arr1\n"
     ],
     "language": "python",
     "prompt_number": 4
    },
    {
     "cell_type": "code",
     "execution_count": null,
     "metadata": {},
     "outputs": [
      {
       "prompt_number": 5,
       "metadata": {},
       "output_type": "pyout",
       "text": [
        "array([[  1,   4,   9],\n",
        "       [ 64,  81, 100]])"
       ]
      }
     ],
     "input": [
      "#Multiplying Arrays\n",
      "arr1*arr1"
     ],
     "language": "python",
     "prompt_number": 5
    },
    {
     "cell_type": "code",
     "execution_count": null,
     "metadata": {},
     "outputs": [
      {
       "prompt_number": 6,
       "metadata": {},
       "output_type": "pyout",
       "text": [
        "array([[0, 0, 0],\n",
        "       [0, 0, 0]])"
       ]
      }
     ],
     "input": [
      "#Subtraction\n",
      "arr1-arr1"
     ],
     "language": "python",
     "prompt_number": 6
    },
    {
     "cell_type": "code",
     "execution_count": null,
     "metadata": {},
     "outputs": [
      {
       "prompt_number": 10,
       "metadata": {},
       "output_type": "pyout",
       "text": [
        "array([[ 1.        ,  0.5       ,  0.33333333],\n",
        "       [ 0.125     ,  0.11111111,  0.1       ]])"
       ]
      }
     ],
     "input": [
      "#Arithmetic operations with scalars on array\n",
      "1 / arr1"
     ],
     "language": "python",
     "prompt_number": 10
    },
    {
     "cell_type": "code",
     "execution_count": null,
     "metadata": {},
     "outputs": [
      {
       "prompt_number": 18,
       "metadata": {},
       "output_type": "pyout",
       "text": [
        "array([[   1,    8,   27],\n",
        "       [ 512,  729, 1000]])"
       ]
      }
     ],
     "input": [
      "#Exponential operation\n",
      "arr1 ** 3"
     ],
     "language": "python",
     "prompt_number": 18
    },
    {
     "cell_type": "code",
     "execution_count": null,
     "metadata": {},
     "outputs": [],
     "input": [],
     "language": "python"
    }
   ]
  }
 ],
 "cells": [],
 "metadata": {
  "name": "",
  "signature": "sha256:d5bc45410f980063d362d449d2cd9071e1e0146af31bfdb22f78ba70299c29c8"
 },
 "nbformat": 4,
 "nbformat_minor": 0
}
